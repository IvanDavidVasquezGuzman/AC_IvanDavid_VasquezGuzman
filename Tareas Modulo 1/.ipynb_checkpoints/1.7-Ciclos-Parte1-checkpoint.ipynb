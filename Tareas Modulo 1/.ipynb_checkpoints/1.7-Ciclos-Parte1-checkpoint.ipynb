{
 "cells": [
  {
   "cell_type": "markdown",
   "id": "4f3bb035",
   "metadata": {},
   "source": [
    "# Ciclos\n",
    "\n",
    "En este _notebook_, veremos una nueva forma de control de flujo: los **ciclos**. En general, estos permiten _repetir_ procesos _hasta que_ una condición particular se satisfaga, aunque existen varias formas diferentes de lograr esto.\n",
    "\n",
    "## Tipos de ciclos\n",
    "\n",
    "Es muy común que, al programar, necesitemos implementar alguno de los siguientes procesos:\n",
    "* repetir una serie de instrucciones _mientras_ cierta condición se cumpla (i.e. _hasta que_ se deje de cumplir),\n",
    "* aplicar una secuencia de instrucciones _sobre_ un arreglo (i.e. _por cada elemento_ del arreglo),\n",
    "* ejecutar una serie de instrucciones _recursivamente_ (i.e. que la última instrucción sea _volver a ejecutar_ la serie).\n",
    "\n",
    "En la mayoría de los lenguajes de programación, estas funcionalidades están implementadas a través de **ciclos**. Dado que en los primeros dos procesos se _itera_ sobre una condición o sobre los elementos de un arreglo, respectivamente, se conocen como ciclos **iterativos**, mientras que el tercero se conoce como un ciclo **recursivo**. "
   ]
  },
  {
   "cell_type": "markdown",
   "id": "5c9c4b70",
   "metadata": {},
   "source": [
    "## Ciclos iterativos"
   ]
  },
  {
   "cell_type": "markdown",
   "id": "1d212526",
   "metadata": {},
   "source": [
    "### Ciclos `while` (_while loops_)\n",
    "\n",
    "Los ciclos que ejecutan repetidamente una secuencia de instrucciones _mientras_ cierta condición se cumpla se conocen como ciclos **`while`**. Su sintáxis en Julia es la siguiente:\n",
    "\n",
    "$\\color{green}{\\textbf{while }} \\text{condition}$\n",
    "\n",
    "$\\quad \\quad \\text{block}$\n",
    "\n",
    "$\\color{green}{\\textbf{end}}$\n",
    "\n",
    "Al ejecutar este código:\n",
    "1. Julia reducirá y evaluará la expresión $\\text{condition}$.\n",
    "1. Si $\\text{condition}$ se evalúa a `true`, ejecutará el bloque de código $\\text{block}$ y regresará al paso 1.\n",
    "1. Si $\\text{condition}$ se evalúa a `false`, **no** ejecutará el bloque de código $\\text{block}$ **ni** volverá al paso 1, sino que procederá a ejecutar las instrucciones _posteriores_ al final del ciclo, marcado por $\\color{green}{\\textbf{end}}$ (de haberlas).\n",
    "\n",
    "Observa que, para que Julia pueda llegar al paso 3 y terminar de ejecutar el ciclo **`while`**, es necesario que el bloque de código $\\text{block}$ **cambie el valor de** $\\text{condition}$ en algún punto; ¡de lo contrario, la serie de instrucciones en $\\text{block}$ _se ejecutará infinitamente_! Si llegamos a pedirle a la computadora por error que **ejecute un proceso infinito**, deberemos interrumpir nuestro _kernel_ para poder seguir trabajando."
   ]
  },
  {
   "cell_type": "markdown",
   "id": "6d45d4a5",
   "metadata": {},
   "source": [
    "Un ejemplo de un ciclo **`while`** _bien implementado_ (es decir, finito) es el siguiente:"
   ]
  },
  {
   "cell_type": "code",
   "execution_count": null,
   "id": "658ad23c",
   "metadata": {},
   "outputs": [],
   "source": [
    "x = 0          #Asignamos el valor 0 a una variable 'x'.\n",
    "\n",
    "while x <= 2   #Iniciamos un ciclo que se repetirá mientras x\n",
    "               #tenga un valor menor o igual a 2.\n",
    "    println(x) #Imprimimos el valor de 'x'.\n",
    "    x += 1     #¡Aumentamos el valor de 'x' para que el ciclo termine\n",
    "               #eventualmente y no se haga un proceso infinito!\n",
    "end"
   ]
  },
  {
   "cell_type": "markdown",
   "id": "7fc323b4",
   "metadata": {},
   "source": [
    "mientras que dos ejemplos de ciclos **`while`** _mal implementados_ (es decir, infinitos) son los siguientes:"
   ]
  },
  {
   "cell_type": "code",
   "execution_count": null,
   "id": "b03e53ac",
   "metadata": {},
   "outputs": [],
   "source": [
    "x = 0          #Asignamos el valor 0 a una variable 'x'.\n",
    "\n",
    "while x <= 2   #Iniciamos un ciclo que se repetirá mientras x\n",
    "               #tenga un valor menor o igual a 2.\n",
    "    println(x) #Imprimimos el valor de 'x'.\n",
    "               #No modificamos el valor de 'x', ¡así que siempre valdrá 0 \n",
    "end            #y el ciclo se volverá a ejecutar infinitamente!"
   ]
  },
  {
   "cell_type": "code",
   "execution_count": null,
   "id": "ca479bb4",
   "metadata": {},
   "outputs": [],
   "source": [
    "x = 0          #Asignamos el valor 0 a una variable 'x'.\n",
    "\n",
    "while x <= 2   #Iniciamos un ciclo que se repetirá mientras x\n",
    "               #tenga un valor menor o igual a 2.\n",
    "    println(x) #Imprimimos el valor de 'x'.\n",
    "    x -= 1     #Modificamos el valor de 'x', ¡pero NO de forma que\n",
    "               #eventualmente la condición deje de cumplirse!\n",
    "end"
   ]
  },
  {
   "cell_type": "markdown",
   "id": "cd424951",
   "metadata": {},
   "source": [
    "Una aplicación muy importante de los ciclos **`while`** es la de repetir un cálculo numérico hasta que éste tenga la precisión deseada. Como de costumbre, la precisión se determina como el valor absoluto de la diferencia entre el valor que obtenemos (el resultado del cálculo) y el valor que esperamos (o bien, el valor exacto), por lo que un ejemplo de pseudocódigo que usa un ciclo **`while`** de esta manera para aproximar $\\pi$ se podría ver como sigue:\n",
    "\n",
    "$\\varepsilon \\ \\color{magenta}{\\mathbf{=}} \\ 0.1 \\quad \\quad \\quad \\quad \\quad \\quad \\color{blue}{\\text{# Definimos la cota mínima de precisión que queremos.}}$\n",
    "\n",
    "$\\text{p} \\ \\color{magenta}{\\mathbf{=}} \\ 3 \\ \\ \\ \\quad \\quad \\quad \\quad \\quad \\quad \\color{blue}{\\text{# Asignamos un valor a nuestra variable.}}$\n",
    "\n",
    "$\\color{green}{\\textbf{while }} \\text{abs}(\\pi-\\text{p}) > \\varepsilon \\quad \\color{blue}{\\text{# Mientras la precisión obtenida sea mayor a la deseada...}}$\n",
    "\n",
    "$\\quad \\quad \\text{block} \\ \\ \\ \\quad \\quad \\quad \\quad \\color{blue}{\\text{# Cálculos que deriven en una reasignación del valor de}}$\n",
    "\n",
    "$\\ \\ \\ \\quad \\quad \\quad \\quad \\quad \\quad \\quad \\quad \\color{blue}{\\text{# la variable p y lo acerquen al valor de } \\pi}.$\n",
    "\n",
    "$\\color{green}{\\textbf{end}}$\n",
    "\n",
    "Frecuentemente usaremos los ciclos **`while`** de esta forma cuando veamos [métodos numéricos](../3-Cómputo_científico/3.1-Métodos_numéricos.ipynb)."
   ]
  },
  {
   "cell_type": "markdown",
   "id": "06c25079",
   "metadata": {},
   "source": [
    "**Ejercicio** Implementa un código que aproxime la [épsilon de máquina para `Float64`](./1.2-Sistemas_numéricos_de_punto_flotante_y_error_numérico.ipynb#Resumen) **sin utilizar la función `eps`**."
   ]
  },
  {
   "cell_type": "code",
   "execution_count": null,
   "id": "2bc2fdfa",
   "metadata": {},
   "outputs": [],
   "source": [
    "#Tu código comentado va aquí :D"
   ]
  },
  {
   "cell_type": "markdown",
   "id": "8af3beb8",
   "metadata": {},
   "source": [
    "### Ciclos `for` (_for loops_)\n",
    "\n",
    "Los ciclos que aplican una misma secuencia de instrucciones _por cada elemento de un arreglo_ se conocen como ciclos **`for`**. Su sintáxis en Julia es la siguiente:\n",
    "\n",
    "$\\color{green}{\\textbf{for }} \\text{iterator } \\color{magenta}{\\textbf{in }} \\text{array}$\n",
    "\n",
    "$\\quad \\quad \\text{block}$\n",
    "\n",
    "$\\color{green}{\\textbf{end}}$\n",
    "\n",
    "Al ejecutar este código:\n",
    "1. Julia tomará el primer valor del arreglo $\\text{array}$ y se lo asignará a una variable de nombre $\\text{iterator}$.\n",
    "1. Julia ejecutará el bloque de código $\\text{block}$, **el cual _puede_ utilizar a la variable** $\\text{iterator}$.\n",
    "1. Julia tomará el _siguiente_ valor de $\\text{array}$ y se lo asignará a $\\text{iterator}$.\n",
    "1. Julia repetirá los pasos 2 y 3 hasta que no queden más valores en el arreglo por asignar, en cuyo caso procederá a ejecutar las instrucciones _posteriores_ al final del ciclo, marcado por $\\color{green}{\\textbf{end}}$ (de haberlas).\n",
    "\n",
    "Dado que los ciclos **`for`** _iteran_ sobre los elementos de un arreglo, a una variable creada por un ciclo **`for`** se le suele llamar _iterador_."
   ]
  },
  {
   "cell_type": "markdown",
   "id": "3fd57620",
   "metadata": {},
   "source": [
    "Las siguientes celdas de código incluyen ejemplos de ciclos **`for`**:"
   ]
  },
  {
   "cell_type": "code",
   "execution_count": 1,
   "id": "a7bff5c4",
   "metadata": {},
   "outputs": [
    {
     "name": "stdout",
     "output_type": "stream",
     "text": [
      "0\n",
      "1\n",
      "2\n"
     ]
    }
   ],
   "source": [
    "A = [0, 1, 2]\n",
    "\n",
    "for x in A     #Por cada elemento de A, asignamos su valor a 'x'\n",
    "\n",
    "    println(x) #e imprimimos el valor asignado a 'x'.\n",
    "    \n",
    "end"
   ]
  },
  {
   "cell_type": "code",
   "execution_count": null,
   "id": "afed3c78",
   "metadata": {},
   "outputs": [],
   "source": [
    "sum = 0\n",
    "\n",
    "for n in [1, 2, 3, 4, 5, 6, 7, 8, 9, 10, 11, 12, 13, 14, 15]\n",
    "    \n",
    "    sum += 1 / ( n*(n+1) )\n",
    "    \n",
    "end\n",
    "\n",
    "sum"
   ]
  },
  {
   "cell_type": "markdown",
   "id": "7f824dde",
   "metadata": {},
   "source": [
    "Observa que el primer ejemplo de ciclo **`for`** es totalmente equivalente al primer ciclo **`while`** que vimos en este _notebook_, mientras que el segundo ciclo **`for`** es la suma parcial de los primeros 15 términos de la serie\n",
    "\n",
    "$$\\sum_{n=1}^\\infty \\frac{1}{(n(n+1))}.$$\n",
    "\n",
    "En el _notebook_ [`1.2-Sistemas_numéricos_de_punto_flotante_y_error_numérico.ipynb`](./1.2-Sistemas_numéricos_de_punto_flotante_y_error_numérico.ipynb) mencionamos que esta serie es igual a $1$. Observa cómo cambia el valor de `sum` si agregas más valores de la sucesión $1, 2, 3\\dots$ al arreglo, o si quitas algunos valores."
   ]
  },
  {
   "cell_type": "markdown",
   "id": "060341ab",
   "metadata": {},
   "source": [
    "Otro ejemplo de uso de un ciclo **`for`** es el siguiente:"
   ]
  },
  {
   "cell_type": "code",
   "execution_count": null,
   "id": "f25b0156",
   "metadata": {},
   "outputs": [],
   "source": [
    "prod = 1\n",
    "A = [0, 'a', \"Hola\", 0.4, 1000, 7]\n",
    "\n",
    "for i in A    #Por cada elemento de A,\n",
    "    \n",
    "    prod *= 2 #multiplica el valor de `prod` por 2.\n",
    "    \n",
    "end\n",
    "\n",
    "prod"
   ]
  },
  {
   "cell_type": "markdown",
   "id": "27e1f495",
   "metadata": {},
   "source": [
    "Nótese que dentro del ciclo **`for`** anterior _no se usó el valor del iterador_ `i`, por lo que realmente _no importó el contenido del arreglo sobre el que se iteró_ (en este caso, `A`), sino que _sólo importó cuántos elementos tenía el arreglo_. Esto se puede ver cambiando los valores de los elementos de `A` y ejecutando nuevamente la celda. Por ejemplos como éste es que a veces a una variable creada por un ciclo **`for`** también se le llama _contador_."
   ]
  },
  {
   "cell_type": "markdown",
   "id": "91e29e9e",
   "metadata": {},
   "source": [
    "#### Rangos\n",
    "\n",
    "Como has observado, es común utilizar ciclos **`for`** sobre conjuntos de números espaciados uniformemente. A estos se les conocen como **rangos**. En Julia, tienen la siguiente sintáxis:\n",
    "\n",
    "$$\\color{green}{\\text{a}}\\color{magenta}{\\textbf{:}}\\color{green}{\\text{b}}\\color{magenta}{\\textbf{:}}\\color{green}{\\text{c}}$$\n",
    "\n",
    "Al ejecutar este código:\n",
    "1. Julia creará un rango que tenga al valor $\\color{green}{\\text{a}}$ como su primer entrada.\n",
    "2. Julia agregará una nueva entrada al rango sumándole $\\color{green}{\\text{b}}$ al valor de su última entrada.\n",
    "3. Julia repetirá el paso 2 hasta que la suma de $\\color{green}{\\text{b}}$ con el valor de su última entrada \"rebase\" a $\\color{green}{\\text{c}}$; el valor que haya cruzado la frontera marcada por $\\color{green}{\\text{c}}$ **no** será incluido en el rango."
   ]
  },
  {
   "cell_type": "markdown",
   "id": "e53d790b",
   "metadata": {},
   "source": [
    "El siguiente ejemplo utiliza un rango como arreglo en un ciclo **`for`** e imprime a los elementos del rango:"
   ]
  },
  {
   "cell_type": "code",
   "execution_count": null,
   "id": "d673dd12",
   "metadata": {},
   "outputs": [],
   "source": [
    "for x in 1:0.2:3.0\n",
    "    \n",
    "    println(x)\n",
    "    \n",
    "end"
   ]
  },
  {
   "cell_type": "markdown",
   "id": "ac70e3c5",
   "metadata": {},
   "source": [
    "Si escribimos un rango de la forma\n",
    "\n",
    "$$\\color{green}{\\text{a}}\\color{magenta}{\\textbf{:}}\\color{green}{\\text{c}}$$\n",
    "\n",
    "Julia asumirá que la diferencia entre los elementos del arreglo es $1$. El siguiente ejemplo usa un rango para calcular la suma parcial de la serie mencionada anteriormente:"
   ]
  },
  {
   "cell_type": "code",
   "execution_count": null,
   "id": "3c974b6c",
   "metadata": {},
   "outputs": [],
   "source": [
    "sum = 0\n",
    "\n",
    "for n in 1:1000000\n",
    "    \n",
    "    sum += 1 / ( n*(n+1) )\n",
    "    \n",
    "end\n",
    "\n",
    "sum"
   ]
  },
  {
   "cell_type": "markdown",
   "id": "9d4a245d",
   "metadata": {},
   "source": [
    "Observemos que esta forma equivalente de calcular la suma parcial tiene la ventaja de ser más legible y fácil de modificar; para obtener la suma de los primeros $n$ términos ¡sólo debemos cambiar el último valor del rango!"
   ]
  },
  {
   "cell_type": "markdown",
   "id": "dd842541",
   "metadata": {},
   "source": [
    "A pesar de que un **rango** _no es lo mismo_ que un arreglo, se puede acceder a sus elementos usando la misma sintáxis, envolviéndolo primero entre paréntesis:"
   ]
  },
  {
   "cell_type": "code",
   "execution_count": null,
   "id": "a3b48f6c",
   "metadata": {},
   "outputs": [],
   "source": [
    "(1:0.2:2)[3] #Accedemos a un elemento de un rango"
   ]
  },
  {
   "cell_type": "markdown",
   "id": "48db27f3",
   "metadata": {},
   "source": [
    "Adicionalmente, pueden ser convertidos a un arreglo con la función `collect`:"
   ]
  },
  {
   "cell_type": "code",
   "execution_count": null,
   "id": "8d5cffe6",
   "metadata": {},
   "outputs": [],
   "source": [
    "collect(1:0.5:3) #Convertimos un rango a un vector (arreglo de una dimensión)"
   ]
  },
  {
   "cell_type": "markdown",
   "id": "465a6657",
   "metadata": {},
   "source": [
    "**Nota** Si recuerdas, en el _notebook_ [`1.3-Tipos_de_datos_de_texto_y_arreglos.ipynb`](./1.3-Tipos_de_datos_de_texto_y_arreglos.ipynb#Índices-y-subarreglos) utilizamos arreglos de índices para acceder a subarreglos de un arreglo, por ejemplo:"
   ]
  },
  {
   "cell_type": "code",
   "execution_count": null,
   "id": "67dbcc24",
   "metadata": {},
   "outputs": [],
   "source": [
    "[1, 3, 5, 7, 9][[1,3,5]]"
   ]
  },
  {
   "cell_type": "markdown",
   "id": "a77f933a",
   "metadata": {},
   "source": [
    "En particular, podemos usar rangos como arreglos de índices para este fin:"
   ]
  },
  {
   "cell_type": "code",
   "execution_count": null,
   "id": "6ba1bb32",
   "metadata": {},
   "outputs": [],
   "source": [
    "[1, 3, 5, 7, 9][1:2:5]"
   ]
  },
  {
   "cell_type": "markdown",
   "id": "867dfa19",
   "metadata": {},
   "source": [
    "Por esto es que, cuando sólo ponemos el símbolo `:` sin especificar los parámetros del rango de índices, Julia lo interpreta como _todo el rango de índices posible_. Así es como pudimos, por ejemplo, obtener vectores columna y vectores renglón de una matriz:"
   ]
  },
  {
   "cell_type": "code",
   "execution_count": null,
   "id": "3d03d8df",
   "metadata": {},
   "outputs": [],
   "source": [
    "[1 2 3 ; 4 5 6 ; 7 8 9][3,:]\n",
    "#=Devuelve un arreglo con todos los índices posibles de columna\n",
    "  para el índice 3 de renglón.=#"
   ]
  },
  {
   "cell_type": "code",
   "execution_count": null,
   "id": "6f7239df",
   "metadata": {},
   "outputs": [],
   "source": [
    "[1 2 3 ; 4 5 6 ; 7 8 9][:,2]\n",
    "#=Devuelve un arreglo con todos los índices posibles de renglón\n",
    "  para el índice 2 de columna.=#"
   ]
  },
  {
   "cell_type": "markdown",
   "id": "bacb332c",
   "metadata": {},
   "source": [
    "#### Creación de arreglos \"por comprensión\" (_comprehensions_)\n",
    "\n",
    "En teoría de conjuntos, podemos describir a un conjunto \"por extensión\"\n",
    "\n",
    "$$J = \\{ 1, 2, 3, 4, 5, 6, 7, 8, 9, 10 \\}$$\n",
    "\n",
    "o \"por comprensión\"\n",
    "\n",
    "$$J = \\{ x \\in \\mathbb{N} \\mid 1 \\leq x \\leq 10 \\},$$\n",
    "\n",
    "es decir, especificando qué propiedad deben cumplir los elementos del conjunto _en vez de_ enumerarlos a todos.\n",
    "\n",
    "En Julia, hemos visto que podemos crear arreglos _por extensión_"
   ]
  },
  {
   "cell_type": "code",
   "execution_count": null,
   "id": "86fd259a",
   "metadata": {},
   "outputs": [],
   "source": [
    "B = [1, 2, 3, 4, 5, 6, 7, 8, 9, 10]"
   ]
  },
  {
   "cell_type": "markdown",
   "id": "1ac29b80",
   "metadata": {},
   "source": [
    "pero que también podemos usar rangos para crear arreglos uniformemente espaciados _por comprensión_"
   ]
  },
  {
   "cell_type": "code",
   "execution_count": null,
   "id": "99ffeefe",
   "metadata": {},
   "outputs": [],
   "source": [
    "C = collect(1:10)"
   ]
  },
  {
   "cell_type": "code",
   "execution_count": null,
   "id": "05004203",
   "metadata": {},
   "outputs": [],
   "source": [
    "B == C #Verificamos que estas dos formas de definir arreglos sean equivalentes."
   ]
  },
  {
   "cell_type": "markdown",
   "id": "31ca9732",
   "metadata": {},
   "source": [
    "En general, los ciclos **`for`** y los rangos pueden ser utilizados para definir arreglos por comprensión. Por ejemplo,\n",
    "\n",
    "$$ D = \\{1, 4, 9, 16, 25\\} = \\{ x^2 \\mid x\\in\\mathbb{N}, \\ 1\\leq x\\leq 5 \\} $$\n",
    "\n",
    "puede ser implementado como"
   ]
  },
  {
   "cell_type": "code",
   "execution_count": null,
   "id": "45200318",
   "metadata": {},
   "outputs": [],
   "source": [
    "D = [ x^2 for x in 1:5 ]"
   ]
  },
  {
   "cell_type": "markdown",
   "id": "6cc0975d",
   "metadata": {},
   "source": [
    "Incluso podemos añadir declaraciones condicionales dentro de la propiedad que los elementos deben cumplir para pertenecer al arreglo, por ejemplo:"
   ]
  },
  {
   "cell_type": "code",
   "execution_count": null,
   "id": "43b9e297",
   "metadata": {},
   "outputs": [],
   "source": [
    "E = [ x^2 for x in -10:10 if (x >= 1 && x <= 5) ]"
   ]
  },
  {
   "cell_type": "code",
   "execution_count": null,
   "id": "1d14a181",
   "metadata": {},
   "outputs": [],
   "source": [
    "D == E #Verificamos que estas dos formas de definir arreglos sean equivalentes."
   ]
  },
  {
   "cell_type": "markdown",
   "id": "8b38d41f",
   "metadata": {},
   "source": [
    "A este tipo de expresiones en Julia se les conoce como _comprehensions_, y su sintáxis general es la siguiente:\n",
    "\n",
    "$$\\text{expression } \\color{green}{\\textbf{for }} \\text{iterator } \\color{magenta}{\\textbf{in }} \\text{range } \\color{green}{\\textbf{if }} \\text{condition}$$\n",
    "\n",
    "donde $\\text{expression}$ es una expresión que define a los elementos del arreglo, $\\text{iterator}$ es un iterador que _puede_ aparecer en $\\text{expression}$, y la presencia de una declaración condicional $\\color{green}{\\textbf{if }} \\text{condition}$ es opcional."
   ]
  },
  {
   "cell_type": "markdown",
   "id": "9b58d144",
   "metadata": {},
   "source": [
    "En particular, podemos utilizar un _comprehension_ donde la variable del ciclo _for_ **no** aparezca en la expresión que define a los elementos del arreglo para definir un arreglo con una cantidad $n$ de entradas con el mismo valor:"
   ]
  },
  {
   "cell_type": "code",
   "execution_count": null,
   "id": "eefd4ac3",
   "metadata": {
    "scrolled": true
   },
   "outputs": [],
   "source": [
    "[1 for x in 1:10]"
   ]
  },
  {
   "cell_type": "markdown",
   "id": "70a2f849",
   "metadata": {},
   "source": [
    "## Ciclos recursivos\n",
    "\n",
    "La _recursión_ es lo que sucede cuando un proceso hace referencia a sí mismo _como parte del (mismo) proceso_. En este sentido, un **ciclo recursivo** es una serie de instrucciones definida de tal forma que tiene como instrucción ejecutarse a sí misma. Para que un ciclo recursivo _no se repita infinitamente_, antes de que se llame a sí mismo, sus instrucciones deben incluir algo que sea capaz de _cambiar el flujo del ciclo_ para detenerlo."
   ]
  },
  {
   "cell_type": "markdown",
   "id": "32b41520",
   "metadata": {},
   "source": [
    "Recordemos que, en Julia, definimos series de instrucciones como _funciones_ con la siguiente sintáxis (vista en el _notebook_ [`1.4-Variables_constantes_y_funciones.ipynb`](./1.4-Variables_constantes_y_funciones.ipynb#Definición-de-funciones)):\n",
    "\n",
    "$\\color{green}{\\textbf{function }} \\color{blue}{\\text{nombre}} \\text{(parámetro1, ... , parámetro$N$}\\color{magenta}{\\textbf{=}}\\text{valorPredeterminado})$\n",
    "\n",
    "$\\quad \\quad \\text{block}$\n",
    "\n",
    "$\\color{green}{\\textbf{end}}$\n",
    "\n",
    "y controlamos el flujo mediante _condicionales_, como las declaraciones `if`, que tienen la siguiente sintáxis (vista en el _notebook_ [`1.6-Condicionales_y_control_de_flujo.ipynb`](./1.6-Condicionales_y_control_de_flujo.ipynb#Declaraciones-if-(if-statements))):\n",
    "\n",
    "$\\color{green}{\\textbf{if }} \\text{condition}$\n",
    "\n",
    "$\\quad \\quad \\text{then...}$\n",
    "\n",
    "$\\color{green}{\\textbf{end}}$\n",
    "\n",
    "Combinando ambas cosas, podemos crear ciclos recursivos, como en el siguiente ejemplo (de la función [factorial](https://es.wikipedia.org/wiki/Factorial)):"
   ]
  },
  {
   "cell_type": "code",
   "execution_count": null,
   "id": "ca444e6c",
   "metadata": {},
   "outputs": [],
   "source": [
    "function fact(x::Integer)  #Definimos la función factorial `fact`\n",
    "    \n",
    "    if x == 0              #Si el argumento es 0,\n",
    "        \n",
    "        1                      #devuelve 1;\n",
    "        \n",
    "    else                   #en cualquier otro caso,\n",
    "        \n",
    "        x*fact(x-1)            #devuelve la multiplicación del argumento por el\n",
    "                               #factorial del antecesor del argumento.\n",
    "    end\n",
    "  \n",
    "end\n",
    "\n",
    "fact(-1) #Llamamos a la función para probarla."
   ]
  },
  {
   "cell_type": "markdown",
   "id": "58958b8a",
   "metadata": {},
   "source": [
    "La razón por la que en el ejemplo anterior especificamos que el parámetro de `fact` sea de tipo `Integer` -un tipo de dato abstracto que engloba a los diferentes tipos de dato enteros- es que, si aceptáramos un argumento de tipo flotante, nada nos aseguraría que al restarle $1$ varias veces llegaríamos a obtener $0$, la condición que detiene el ciclo. Sin embargo... ¿qué pasa si llamamos a `fact` con un argumento con tipo de dato entero, pero _negativo_?"
   ]
  },
  {
   "cell_type": "markdown",
   "id": "44fabdd5",
   "metadata": {},
   "source": [
    "**Ejercicio** Crea una función llamada `miFactorial` que tome un argumento de tipo `Integer`, imprima el `String` `\"Error: la función miFactorial no se puede ejecutar con valores negativos.\"` si el argumento es menor a cero, y devuelva el factorial del argumento si es mayor o igual que cero."
   ]
  },
  {
   "cell_type": "code",
   "execution_count": 2,
   "id": "d30e1733",
   "metadata": {},
   "outputs": [
    {
     "data": {
      "text/plain": [
       "1"
      ]
     },
     "execution_count": 2,
     "metadata": {},
     "output_type": "execute_result"
    }
   ],
   "source": [
    "function miFactorial(x::Integer)  #Definimos la función factorial `fact`\n",
    "    \n",
    "    if x == 0              #Si el argumento es 0,\n",
    "        \n",
    "        1                      #devuelve 1;\n",
    "        \n",
    "    else                   #en cualquier otro caso,\n",
    "        \n",
    "        x*fact(x-1)            #devuelve la multiplicación del argumento por el\n",
    "                               #factorial del antecesor del argumento.\n",
    "    end\n",
    "  \n",
    "end\n",
    "\n",
    "miFactorial(0) #Llamamos a la función para probarla."
   ]
  },
  {
   "cell_type": "markdown",
   "id": "332844d4",
   "metadata": {},
   "source": [
    "**Nota** La función factorial ya está definida en Julia con el nombre `factorial`, y funciona de forma similar a `miFactorial`, por lo que no tenemos que definir una función factorial cada vez que queramos usarla."
   ]
  }
 ],
 "metadata": {
  "kernelspec": {
   "display_name": "Julia 1.8.5",
   "language": "julia",
   "name": "julia-1.8"
  },
  "language_info": {
   "file_extension": ".jl",
   "mimetype": "application/julia",
   "name": "julia",
   "version": "1.8.5"
  }
 },
 "nbformat": 4,
 "nbformat_minor": 5
}
